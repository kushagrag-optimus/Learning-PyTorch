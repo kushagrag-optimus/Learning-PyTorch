{
  "nbformat": 4,
  "nbformat_minor": 0,
  "metadata": {
    "colab": {
      "provenance": []
    },
    "kernelspec": {
      "name": "python3",
      "display_name": "Python 3"
    },
    "language_info": {
      "name": "python"
    }
  },
  "cells": [
    {
      "cell_type": "code",
      "execution_count": 1,
      "metadata": {
        "colab": {
          "base_uri": "https://localhost:8080/"
        },
        "id": "5YBbQYoUimOQ",
        "outputId": "01334fcb-522b-4363-9c31-f8c69a4ca5df"
      },
      "outputs": [
        {
          "output_type": "stream",
          "name": "stdout",
          "text": [
            "2.6.0+cu124\n"
          ]
        }
      ],
      "source": [
        "import torch\n",
        "print(torch.__version__)"
      ]
    },
    {
      "cell_type": "code",
      "source": [
        "if torch.cuda.is_available():\n",
        "  print(\"GPU is available!\")\n",
        "  print(f\"Using GPU: {torch.cuda.get_device_name(0)}\")\n",
        "else:\n",
        "  print(\"GPU not available. Using CPU.\")"
      ],
      "metadata": {
        "colab": {
          "base_uri": "https://localhost:8080/"
        },
        "id": "Y_KwY_IdjZpY",
        "outputId": "a797508d-3e12-4bb1-b8ec-da4cbb30a4f1"
      },
      "execution_count": 2,
      "outputs": [
        {
          "output_type": "stream",
          "name": "stdout",
          "text": [
            "GPU not available. Using CPU.\n"
          ]
        }
      ]
    },
    {
      "cell_type": "markdown",
      "source": [
        "# Creating a Tensor"
      ],
      "metadata": {
        "id": "TTh6jgDMkKnj"
      }
    },
    {
      "cell_type": "code",
      "source": [
        "#using empty\n",
        "a = torch.empty(2,3)\n",
        "print(a)"
      ],
      "metadata": {
        "colab": {
          "base_uri": "https://localhost:8080/"
        },
        "id": "uccKsTzyjwwC",
        "outputId": "bc80e005-0759-48c2-d5d5-b5998eb30f14"
      },
      "execution_count": 3,
      "outputs": [
        {
          "output_type": "stream",
          "name": "stdout",
          "text": [
            "tensor([[0.0000e+00, 0.0000e+00, 0.0000e+00],\n",
            "        [0.0000e+00, 1.0739e-33, 4.4358e-41]])\n"
          ]
        }
      ]
    },
    {
      "cell_type": "code",
      "source": [
        "#check type\n",
        "type(a)"
      ],
      "metadata": {
        "colab": {
          "base_uri": "https://localhost:8080/"
        },
        "id": "-FsQ6SdGk8-X",
        "outputId": "cd1dcbcb-4d6b-4e59-a8be-efbfedea4f72"
      },
      "execution_count": 4,
      "outputs": [
        {
          "output_type": "execute_result",
          "data": {
            "text/plain": [
              "torch.Tensor"
            ]
          },
          "metadata": {},
          "execution_count": 4
        }
      ]
    },
    {
      "cell_type": "code",
      "source": [
        "#using zeroes\n",
        "b = torch.zeros(2,3)\n",
        "print(b)"
      ],
      "metadata": {
        "colab": {
          "base_uri": "https://localhost:8080/"
        },
        "id": "kQoJ-T-8lMfN",
        "outputId": "a8df5c6c-b025-4d64-cbe9-81d6b68720cb"
      },
      "execution_count": 5,
      "outputs": [
        {
          "output_type": "stream",
          "name": "stdout",
          "text": [
            "tensor([[0., 0., 0.],\n",
            "        [0., 0., 0.]])\n"
          ]
        }
      ]
    },
    {
      "cell_type": "code",
      "source": [
        "#using ones\n",
        "c = torch.ones(2,3)\n",
        "print(c)"
      ],
      "metadata": {
        "colab": {
          "base_uri": "https://localhost:8080/"
        },
        "id": "cHhBa5SplYYF",
        "outputId": "4b0cf701-e136-47b7-ab64-50404a081d3e"
      },
      "execution_count": 6,
      "outputs": [
        {
          "output_type": "stream",
          "name": "stdout",
          "text": [
            "tensor([[1., 1., 1.],\n",
            "        [1., 1., 1.]])\n"
          ]
        }
      ]
    },
    {
      "cell_type": "code",
      "source": [
        "#using rand\n",
        "torch.rand(2,3)"
      ],
      "metadata": {
        "colab": {
          "base_uri": "https://localhost:8080/"
        },
        "id": "vfPtvGE8lkps",
        "outputId": "224514da-a7c2-4ed3-bf24-c81d24ab7881"
      },
      "execution_count": 7,
      "outputs": [
        {
          "output_type": "execute_result",
          "data": {
            "text/plain": [
              "tensor([[0.6644, 0.8310, 0.9446],\n",
              "        [0.4806, 0.6508, 0.6092]])"
            ]
          },
          "metadata": {},
          "execution_count": 7
        }
      ]
    },
    {
      "cell_type": "code",
      "source": [
        "#using seed\n",
        "torch.manual_seed(100)\n",
        "torch.rand(2,3)"
      ],
      "metadata": {
        "colab": {
          "base_uri": "https://localhost:8080/"
        },
        "id": "zJ8d511Alk-A",
        "outputId": "4ef596c4-adaa-4192-d3c9-0c2a3d5b4489"
      },
      "execution_count": 8,
      "outputs": [
        {
          "output_type": "execute_result",
          "data": {
            "text/plain": [
              "tensor([[0.1117, 0.8158, 0.2626],\n",
              "        [0.4839, 0.6765, 0.7539]])"
            ]
          },
          "metadata": {},
          "execution_count": 8
        }
      ]
    },
    {
      "cell_type": "code",
      "source": [
        "#using tensor\n",
        "torch.tensor([[1,2,3],[4,5,6]])"
      ],
      "metadata": {
        "colab": {
          "base_uri": "https://localhost:8080/"
        },
        "id": "jWa5UB1al_R1",
        "outputId": "b5613253-163e-484c-dddb-dc4523497ca2"
      },
      "execution_count": 9,
      "outputs": [
        {
          "output_type": "execute_result",
          "data": {
            "text/plain": [
              "tensor([[1, 2, 3],\n",
              "        [4, 5, 6]])"
            ]
          },
          "metadata": {},
          "execution_count": 9
        }
      ]
    },
    {
      "cell_type": "code",
      "source": [
        "#other ways\n",
        "\n",
        "#arrange\n",
        "print(\"using arrange ->\", torch.arange(0,10,2))\n",
        "\n",
        "#using linspace\n",
        "print(\"using linspace ->\",torch.linspace(0,10,10))\n",
        "\n",
        "#using eye\n",
        "print(\"using eye ->\",torch.eye(5)) #identity matrix\n",
        "\n",
        "#using full\n",
        "print(\"using full ->\", torch.full((3,3),5))"
      ],
      "metadata": {
        "colab": {
          "base_uri": "https://localhost:8080/"
        },
        "id": "KzAf9ZP8m_XS",
        "outputId": "78830707-057b-4e6c-a61e-aeab44939c83"
      },
      "execution_count": 10,
      "outputs": [
        {
          "output_type": "stream",
          "name": "stdout",
          "text": [
            "using arrange -> tensor([0, 2, 4, 6, 8])\n",
            "using linspace -> tensor([ 0.0000,  1.1111,  2.2222,  3.3333,  4.4444,  5.5556,  6.6667,  7.7778,\n",
            "         8.8889, 10.0000])\n",
            "using eye -> tensor([[1., 0., 0., 0., 0.],\n",
            "        [0., 1., 0., 0., 0.],\n",
            "        [0., 0., 1., 0., 0.],\n",
            "        [0., 0., 0., 1., 0.],\n",
            "        [0., 0., 0., 0., 1.]])\n",
            "using full -> tensor([[5, 5, 5],\n",
            "        [5, 5, 5],\n",
            "        [5, 5, 5]])\n"
          ]
        }
      ]
    },
    {
      "cell_type": "markdown",
      "source": [
        "## Tensor Shapes"
      ],
      "metadata": {
        "id": "58WN55rGKuUb"
      }
    },
    {
      "cell_type": "code",
      "source": [
        "x = torch.tensor([[-1,2,3],[4,5,6]])\n",
        "x"
      ],
      "metadata": {
        "colab": {
          "base_uri": "https://localhost:8080/"
        },
        "id": "rn-xEUqMnP7a",
        "outputId": "d75efaff-332a-4ffa-fbfe-60e4453c2f06"
      },
      "execution_count": 11,
      "outputs": [
        {
          "output_type": "execute_result",
          "data": {
            "text/plain": [
              "tensor([[-1,  2,  3],\n",
              "        [ 4,  5,  6]])"
            ]
          },
          "metadata": {},
          "execution_count": 11
        }
      ]
    },
    {
      "cell_type": "code",
      "source": [
        "x.shape"
      ],
      "metadata": {
        "colab": {
          "base_uri": "https://localhost:8080/"
        },
        "id": "PZa_WKKS9efI",
        "outputId": "79e1638c-1f42-445c-92d7-dc10afff171b"
      },
      "execution_count": 12,
      "outputs": [
        {
          "output_type": "execute_result",
          "data": {
            "text/plain": [
              "torch.Size([2, 3])"
            ]
          },
          "metadata": {},
          "execution_count": 12
        }
      ]
    },
    {
      "cell_type": "code",
      "source": [
        "torch.empty_like(x)"
      ],
      "metadata": {
        "colab": {
          "base_uri": "https://localhost:8080/"
        },
        "id": "8TIZJsVqK6MK",
        "outputId": "bbea3298-0fa6-4ad1-d6e8-38b9cf719a96"
      },
      "execution_count": 13,
      "outputs": [
        {
          "output_type": "execute_result",
          "data": {
            "text/plain": [
              "tensor([[135961321426416, 135961321426416, 135957189754880],\n",
              "        [            257,      1095866336,      1095916128]])"
            ]
          },
          "metadata": {},
          "execution_count": 13
        }
      ]
    },
    {
      "cell_type": "code",
      "source": [
        "torch.zeros_like(x)"
      ],
      "metadata": {
        "colab": {
          "base_uri": "https://localhost:8080/"
        },
        "id": "2ai1wiSKK_uA",
        "outputId": "a96c704a-63cc-4b1f-f720-6b1b068734cc"
      },
      "execution_count": 14,
      "outputs": [
        {
          "output_type": "execute_result",
          "data": {
            "text/plain": [
              "tensor([[0, 0, 0],\n",
              "        [0, 0, 0]])"
            ]
          },
          "metadata": {},
          "execution_count": 14
        }
      ]
    },
    {
      "cell_type": "code",
      "source": [
        "torch.ones_like(x)"
      ],
      "metadata": {
        "colab": {
          "base_uri": "https://localhost:8080/"
        },
        "id": "O3wqRDaLLGPA",
        "outputId": "283852fb-972e-4e68-a023-e8f3cb95d1f5"
      },
      "execution_count": 15,
      "outputs": [
        {
          "output_type": "execute_result",
          "data": {
            "text/plain": [
              "tensor([[1, 1, 1],\n",
              "        [1, 1, 1]])"
            ]
          },
          "metadata": {},
          "execution_count": 15
        }
      ]
    },
    {
      "cell_type": "code",
      "source": [
        "#  torch.rand_like(x) # this will generate error because the data type of x is int and rand is float\n",
        "torch.rand_like(x.to(torch.float))"
      ],
      "metadata": {
        "colab": {
          "base_uri": "https://localhost:8080/"
        },
        "id": "_Wqgv_PNLIWx",
        "outputId": "8dbc2554-8fb8-4a38-8297-fc29db0c1347"
      },
      "execution_count": 16,
      "outputs": [
        {
          "output_type": "execute_result",
          "data": {
            "text/plain": [
              "tensor([[0.2627, 0.0428, 0.2080],\n",
              "        [0.1180, 0.1217, 0.7356]])"
            ]
          },
          "metadata": {},
          "execution_count": 16
        }
      ]
    },
    {
      "cell_type": "markdown",
      "source": [
        "## Tensor Data Types"
      ],
      "metadata": {
        "id": "VkVrIwuMMFb6"
      }
    },
    {
      "cell_type": "code",
      "source": [
        "# find data type\n",
        "x.dtype"
      ],
      "metadata": {
        "colab": {
          "base_uri": "https://localhost:8080/"
        },
        "id": "8y6VyofVLzGe",
        "outputId": "34b3366a-94cb-498e-f1aa-5b88b4bfe718"
      },
      "execution_count": 17,
      "outputs": [
        {
          "output_type": "execute_result",
          "data": {
            "text/plain": [
              "torch.int64"
            ]
          },
          "metadata": {},
          "execution_count": 17
        }
      ]
    },
    {
      "cell_type": "code",
      "source": [
        "#assign data type\n",
        "torch.tensor([1.0,2.0,3.0],dtype = torch.int32)\n"
      ],
      "metadata": {
        "colab": {
          "base_uri": "https://localhost:8080/"
        },
        "id": "PZoEiIsxMLwO",
        "outputId": "3204fd27-4c32-4380-8051-602183789225"
      },
      "execution_count": 18,
      "outputs": [
        {
          "output_type": "execute_result",
          "data": {
            "text/plain": [
              "tensor([1, 2, 3], dtype=torch.int32)"
            ]
          },
          "metadata": {},
          "execution_count": 18
        }
      ]
    },
    {
      "cell_type": "code",
      "source": [
        "torch.tensor([1,2,3],dtype = torch.float64)"
      ],
      "metadata": {
        "colab": {
          "base_uri": "https://localhost:8080/"
        },
        "id": "RaIY2tlFMeqg",
        "outputId": "46e53a73-23c0-44b8-f37b-22914b23afde"
      },
      "execution_count": 19,
      "outputs": [
        {
          "output_type": "execute_result",
          "data": {
            "text/plain": [
              "tensor([1., 2., 3.], dtype=torch.float64)"
            ]
          },
          "metadata": {},
          "execution_count": 19
        }
      ]
    },
    {
      "cell_type": "code",
      "source": [
        "#using to()\n",
        "x.to(torch.float32)"
      ],
      "metadata": {
        "colab": {
          "base_uri": "https://localhost:8080/"
        },
        "id": "e_SFzsAiMkz6",
        "outputId": "d430eedd-d8ec-44f5-9ef0-5faa3f49eb58"
      },
      "execution_count": 20,
      "outputs": [
        {
          "output_type": "execute_result",
          "data": {
            "text/plain": [
              "tensor([[-1.,  2.,  3.],\n",
              "        [ 4.,  5.,  6.]])"
            ]
          },
          "metadata": {},
          "execution_count": 20
        }
      ]
    },
    {
      "cell_type": "markdown",
      "source": [
        "# Mathematical Operations"
      ],
      "metadata": {
        "id": "GJ_zmirWODEx"
      }
    },
    {
      "cell_type": "markdown",
      "source": [
        "### 1. Scalar operations"
      ],
      "metadata": {
        "id": "7jzJOl7JOFte"
      }
    },
    {
      "cell_type": "code",
      "source": [
        "print(x)\n",
        "\n",
        "#Addition\n",
        "print(\"Addition\" , x + 2) #adds scalar to every\n",
        "\n",
        "#subtraction\n",
        "print(\"Subtraction\" ,x-2)\n",
        "\n",
        "#multiplication\n",
        "print(\"multiplication\", x*2)\n",
        "#division\n",
        "print(\"Division\" , x/2)\n",
        "\n",
        "# int division\n",
        "print(\"int division\", x//2)\n",
        "\n",
        "#mod\n",
        "print(\"mod 2\", x%2)"
      ],
      "metadata": {
        "colab": {
          "base_uri": "https://localhost:8080/"
        },
        "id": "-AeiqyxNM4_e",
        "outputId": "1467137f-a09d-4fcc-ba52-ecd1c3f997c5"
      },
      "execution_count": 21,
      "outputs": [
        {
          "output_type": "stream",
          "name": "stdout",
          "text": [
            "tensor([[-1,  2,  3],\n",
            "        [ 4,  5,  6]])\n",
            "Addition tensor([[1, 4, 5],\n",
            "        [6, 7, 8]])\n",
            "Subtraction tensor([[-3,  0,  1],\n",
            "        [ 2,  3,  4]])\n",
            "multiplication tensor([[-2,  4,  6],\n",
            "        [ 8, 10, 12]])\n",
            "Division tensor([[-0.5000,  1.0000,  1.5000],\n",
            "        [ 2.0000,  2.5000,  3.0000]])\n",
            "int division tensor([[-1,  1,  1],\n",
            "        [ 2,  2,  3]])\n",
            "mod 2 tensor([[1, 0, 1],\n",
            "        [0, 1, 0]])\n"
          ]
        }
      ]
    },
    {
      "cell_type": "code",
      "source": [
        "a = torch.rand(2,3)\n",
        "b = torch.rand(2,3)\n",
        "\n",
        "print(a)\n",
        "print(b)\n",
        "\n"
      ],
      "metadata": {
        "colab": {
          "base_uri": "https://localhost:8080/"
        },
        "id": "Vq0o9KhPOLKU",
        "outputId": "323311da-8aa6-4672-f248-1149043edc90"
      },
      "execution_count": 22,
      "outputs": [
        {
          "output_type": "stream",
          "name": "stdout",
          "text": [
            "tensor([[0.7118, 0.7876, 0.4183],\n",
            "        [0.9014, 0.9969, 0.7565]])\n",
            "tensor([[0.2239, 0.3023, 0.1784],\n",
            "        [0.8238, 0.5557, 0.9770]])\n"
          ]
        }
      ]
    },
    {
      "cell_type": "code",
      "source": [
        "a+b\n",
        "a-b\n",
        "a*b\n",
        "a/b\n",
        "\n",
        "a**b\n",
        "\n",
        "a%b"
      ],
      "metadata": {
        "colab": {
          "base_uri": "https://localhost:8080/"
        },
        "id": "Etmafw4dRI6f",
        "outputId": "754f583a-49c8-493f-d71c-2b749c4d3202"
      },
      "execution_count": 23,
      "outputs": [
        {
          "output_type": "execute_result",
          "data": {
            "text/plain": [
              "tensor([[0.0401, 0.1829, 0.0615],\n",
              "        [0.0776, 0.4411, 0.7565]])"
            ]
          },
          "metadata": {},
          "execution_count": 23
        }
      ]
    },
    {
      "cell_type": "code",
      "source": [
        "c = torch.tensor([1,-3,5,-7])"
      ],
      "metadata": {
        "id": "q3nr1n4GRxVN"
      },
      "execution_count": 24,
      "outputs": []
    },
    {
      "cell_type": "code",
      "source": [
        "# abs\n",
        "print(abs(c))\n"
      ],
      "metadata": {
        "colab": {
          "base_uri": "https://localhost:8080/"
        },
        "id": "7TlTM9oeRKg8",
        "outputId": "8163369e-ad51-4280-a8ea-f21a34b12cba"
      },
      "execution_count": 25,
      "outputs": [
        {
          "output_type": "stream",
          "name": "stdout",
          "text": [
            "tensor([1, 3, 5, 7])\n"
          ]
        }
      ]
    },
    {
      "cell_type": "code",
      "source": [
        "# negative\n",
        "d = torch.neg(c)\n",
        "d"
      ],
      "metadata": {
        "colab": {
          "base_uri": "https://localhost:8080/"
        },
        "id": "LqOdtoLxR4DY",
        "outputId": "fcf0bcf4-39c7-45a3-e8bc-0d00bc2f4eff"
      },
      "execution_count": 26,
      "outputs": [
        {
          "output_type": "execute_result",
          "data": {
            "text/plain": [
              "tensor([-1,  3, -5,  7])"
            ]
          },
          "metadata": {},
          "execution_count": 26
        }
      ]
    },
    {
      "cell_type": "code",
      "source": [
        "# round\n",
        "torch.round(a)"
      ],
      "metadata": {
        "colab": {
          "base_uri": "https://localhost:8080/"
        },
        "id": "OxjXQ3sDR9aU",
        "outputId": "7bb640d9-b38a-423c-b8d9-7d34041f56bf"
      },
      "execution_count": 27,
      "outputs": [
        {
          "output_type": "execute_result",
          "data": {
            "text/plain": [
              "tensor([[1., 1., 0.],\n",
              "        [1., 1., 1.]])"
            ]
          },
          "metadata": {},
          "execution_count": 27
        }
      ]
    },
    {
      "cell_type": "code",
      "source": [
        "# floor and ceil\n",
        "torch.floor(a)\n",
        "torch.ceil(a)"
      ],
      "metadata": {
        "colab": {
          "base_uri": "https://localhost:8080/"
        },
        "id": "3cAqWni4SWPx",
        "outputId": "8c0b7a8f-cfb6-4173-b06b-a88ec5d5150e"
      },
      "execution_count": 28,
      "outputs": [
        {
          "output_type": "execute_result",
          "data": {
            "text/plain": [
              "tensor([[1., 1., 1.],\n",
              "        [1., 1., 1.]])"
            ]
          },
          "metadata": {},
          "execution_count": 28
        }
      ]
    },
    {
      "cell_type": "code",
      "source": [
        "# clamp\n",
        "torch.clamp(a,min = 0.43, max = 0.5)"
      ],
      "metadata": {
        "colab": {
          "base_uri": "https://localhost:8080/"
        },
        "id": "FiwG7lzzSyud",
        "outputId": "e49e8091-69ef-4142-9f29-8cf417513c26"
      },
      "execution_count": 29,
      "outputs": [
        {
          "output_type": "execute_result",
          "data": {
            "text/plain": [
              "tensor([[0.5000, 0.5000, 0.4300],\n",
              "        [0.5000, 0.5000, 0.5000]])"
            ]
          },
          "metadata": {},
          "execution_count": 29
        }
      ]
    },
    {
      "cell_type": "markdown",
      "source": [
        "### Reduction operation"
      ],
      "metadata": {
        "id": "0L-roo0PTXXZ"
      }
    },
    {
      "cell_type": "code",
      "source": [
        "e = torch.randint(size=(2,3),low = 0, high = 10,dtype = torch.float32)\n",
        "e"
      ],
      "metadata": {
        "colab": {
          "base_uri": "https://localhost:8080/"
        },
        "id": "XP8A6YDLTCMD",
        "outputId": "92014187-e07d-4203-cb0c-04ab54510da4"
      },
      "execution_count": 30,
      "outputs": [
        {
          "output_type": "execute_result",
          "data": {
            "text/plain": [
              "tensor([[0., 1., 9.],\n",
              "        [9., 8., 0.]])"
            ]
          },
          "metadata": {},
          "execution_count": 30
        }
      ]
    },
    {
      "cell_type": "code",
      "source": [
        "#sum\n",
        "torch.sum(e)\n",
        "\n",
        "#sum along columns\n",
        "torch.sum(e,dim = 0)\n",
        "\n",
        "#sum along rows\n",
        "torch.sum(e,dim = 1)\n"
      ],
      "metadata": {
        "colab": {
          "base_uri": "https://localhost:8080/"
        },
        "id": "B3i0VhsWThi_",
        "outputId": "3fce14ae-208a-4481-efa9-14dca361575a"
      },
      "execution_count": 31,
      "outputs": [
        {
          "output_type": "execute_result",
          "data": {
            "text/plain": [
              "tensor([10., 17.])"
            ]
          },
          "metadata": {},
          "execution_count": 31
        }
      ]
    },
    {
      "cell_type": "code",
      "source": [
        "#mean\n",
        "torch.mean(e)\n",
        "torch.mean(e,dim = 0)"
      ],
      "metadata": {
        "colab": {
          "base_uri": "https://localhost:8080/"
        },
        "id": "nkrKjgTZTm7F",
        "outputId": "fa469ad6-9ad9-42aa-d705-d25677b66193"
      },
      "execution_count": 32,
      "outputs": [
        {
          "output_type": "execute_result",
          "data": {
            "text/plain": [
              "tensor([4.5000, 4.5000, 4.5000])"
            ]
          },
          "metadata": {},
          "execution_count": 32
        }
      ]
    },
    {
      "cell_type": "code",
      "source": [
        "torch.max(e)\n",
        "torch.min(e)\n"
      ],
      "metadata": {
        "colab": {
          "base_uri": "https://localhost:8080/"
        },
        "id": "z75u9K6hUhQP",
        "outputId": "c580785e-bfe6-43e8-d507-8af396a555c6"
      },
      "execution_count": 33,
      "outputs": [
        {
          "output_type": "execute_result",
          "data": {
            "text/plain": [
              "tensor(0.)"
            ]
          },
          "metadata": {},
          "execution_count": 33
        }
      ]
    },
    {
      "cell_type": "code",
      "source": [
        "torch.prod(e)"
      ],
      "metadata": {
        "colab": {
          "base_uri": "https://localhost:8080/"
        },
        "id": "vP5zQPNNU_x4",
        "outputId": "64d97bc9-fddb-47c6-b164-cfddc0c592ef"
      },
      "execution_count": 34,
      "outputs": [
        {
          "output_type": "execute_result",
          "data": {
            "text/plain": [
              "tensor(0.)"
            ]
          },
          "metadata": {},
          "execution_count": 34
        }
      ]
    },
    {
      "cell_type": "code",
      "source": [
        "# standard deviation\n",
        "torch.std(e)\n",
        "\n",
        "#variance\n",
        "torch.var(e)"
      ],
      "metadata": {
        "colab": {
          "base_uri": "https://localhost:8080/"
        },
        "id": "7giNOxO7VHRa",
        "outputId": "46e01226-d745-4155-d68f-2b09e6f48ef0"
      },
      "execution_count": 35,
      "outputs": [
        {
          "output_type": "execute_result",
          "data": {
            "text/plain": [
              "tensor(21.1000)"
            ]
          },
          "metadata": {},
          "execution_count": 35
        }
      ]
    },
    {
      "cell_type": "code",
      "source": [
        "#argmax\n",
        "torch.argmax(e) #sabse bade wale element ka postion batata hai"
      ],
      "metadata": {
        "colab": {
          "base_uri": "https://localhost:8080/"
        },
        "id": "JJlB1MM1VNTQ",
        "outputId": "92fe3f1b-1146-4709-b142-e9424a6c4b62"
      },
      "execution_count": 36,
      "outputs": [
        {
          "output_type": "execute_result",
          "data": {
            "text/plain": [
              "tensor(2)"
            ]
          },
          "metadata": {},
          "execution_count": 36
        }
      ]
    },
    {
      "cell_type": "code",
      "source": [
        "#argmin\n",
        "torch.argmin(e)"
      ],
      "metadata": {
        "colab": {
          "base_uri": "https://localhost:8080/"
        },
        "id": "xm_4WG9NVUdj",
        "outputId": "63497013-64d2-4d4b-f842-c9405d1cf7f6"
      },
      "execution_count": 37,
      "outputs": [
        {
          "output_type": "execute_result",
          "data": {
            "text/plain": [
              "tensor(0)"
            ]
          },
          "metadata": {},
          "execution_count": 37
        }
      ]
    },
    {
      "cell_type": "markdown",
      "source": [
        "### Matrix Operations"
      ],
      "metadata": {
        "id": "pvMXF0v7WU4k"
      }
    },
    {
      "cell_type": "code",
      "source": [
        "f = torch.randint(size = (2,3),low = 0 ,high = 10)\n",
        "g = torch.randint(size = (3,2), low = 0 , high = 10)\n",
        "\n",
        "print(f)\n",
        "print(g)"
      ],
      "metadata": {
        "colab": {
          "base_uri": "https://localhost:8080/"
        },
        "id": "d71vz2mvVVWo",
        "outputId": "8d883973-e72d-4b49-c3c7-9f98b1b9ffb0"
      },
      "execution_count": 38,
      "outputs": [
        {
          "output_type": "stream",
          "name": "stdout",
          "text": [
            "tensor([[7, 0, 0],\n",
            "        [9, 5, 7]])\n",
            "tensor([[3, 9],\n",
            "        [4, 0],\n",
            "        [5, 7]])\n"
          ]
        }
      ]
    },
    {
      "cell_type": "code",
      "source": [
        "z = torch.matmul(f,g)"
      ],
      "metadata": {
        "id": "1DVDnPe-WR3F"
      },
      "execution_count": 39,
      "outputs": []
    },
    {
      "cell_type": "code",
      "source": [
        "vector1 = torch.tensor([1,2],dtype = torch.float32)\n",
        "vector2 = torch.tensor([3,4],dtype = torch.float32)\n",
        "\n",
        "#dot product\n",
        "torch.dot(vector1,vector2)"
      ],
      "metadata": {
        "colab": {
          "base_uri": "https://localhost:8080/"
        },
        "id": "SSDA0QZGWj5m",
        "outputId": "074d2168-8e25-4e55-9475-17ff89ac2604"
      },
      "execution_count": 40,
      "outputs": [
        {
          "output_type": "execute_result",
          "data": {
            "text/plain": [
              "tensor(11.)"
            ]
          },
          "metadata": {},
          "execution_count": 40
        }
      ]
    },
    {
      "cell_type": "code",
      "source": [
        "#transpose\n",
        "f = torch.transpose(f,0,1)\n",
        "f"
      ],
      "metadata": {
        "colab": {
          "base_uri": "https://localhost:8080/"
        },
        "id": "dW_Mp1viW-_u",
        "outputId": "01c4194f-a09a-4741-9346-f7291899ef2b"
      },
      "execution_count": 41,
      "outputs": [
        {
          "output_type": "execute_result",
          "data": {
            "text/plain": [
              "tensor([[7, 9],\n",
              "        [0, 5],\n",
              "        [0, 7]])"
            ]
          },
          "metadata": {},
          "execution_count": 41
        }
      ]
    },
    {
      "cell_type": "code",
      "source": [
        "#determinant\n",
        "g = torch.randint(size = (3,3),low = 0 ,high = 10)\n",
        "\n",
        "torch.det(g.to(torch.float32))"
      ],
      "metadata": {
        "colab": {
          "base_uri": "https://localhost:8080/"
        },
        "id": "hKrQgHJbXGAi",
        "outputId": "d3b40643-06d0-4177-bb5e-0c94c3e9e24e"
      },
      "execution_count": 42,
      "outputs": [
        {
          "output_type": "execute_result",
          "data": {
            "text/plain": [
              "tensor(184.0000)"
            ]
          },
          "metadata": {},
          "execution_count": 42
        }
      ]
    },
    {
      "cell_type": "code",
      "source": [
        "#inverse\n",
        "torch.inverse(g.to(torch.float32))"
      ],
      "metadata": {
        "colab": {
          "base_uri": "https://localhost:8080/"
        },
        "id": "GESzNaCJX4qX",
        "outputId": "2d4549cb-871e-4429-f8d0-62bccdccf451"
      },
      "execution_count": 43,
      "outputs": [
        {
          "output_type": "execute_result",
          "data": {
            "text/plain": [
              "tensor([[-0.2500,  0.0978,  0.1957],\n",
              "        [ 0.1250, -0.2011,  0.0978],\n",
              "        [ 0.1250,  0.1467, -0.2065]])"
            ]
          },
          "metadata": {},
          "execution_count": 43
        }
      ]
    },
    {
      "cell_type": "markdown",
      "source": [
        "### comparison Operation"
      ],
      "metadata": {
        "id": "Fy-AjHT7ZwyW"
      }
    },
    {
      "cell_type": "code",
      "source": [
        "#greater than\n",
        "a>b\n",
        "#less than\n",
        "a<b\n",
        "#not equal to\n",
        "a!=b\n",
        "#equal to\n",
        "a==b\n",
        "#greater than equal to\n",
        "#less than equal to"
      ],
      "metadata": {
        "colab": {
          "base_uri": "https://localhost:8080/"
        },
        "id": "wWyIzrVKZva-",
        "outputId": "808d63f8-a236-46b9-d37c-5a6f745e5e0d"
      },
      "execution_count": 44,
      "outputs": [
        {
          "output_type": "execute_result",
          "data": {
            "text/plain": [
              "tensor([[False, False, False],\n",
              "        [False, False, False]])"
            ]
          },
          "metadata": {},
          "execution_count": 44
        }
      ]
    },
    {
      "cell_type": "markdown",
      "source": [
        "### Special Functions"
      ],
      "metadata": {
        "id": "BViaiKyHbQ9e"
      }
    },
    {
      "cell_type": "code",
      "source": [
        "k = torch.randint(size = (2,3),low = 0,high = 10)\n",
        "k"
      ],
      "metadata": {
        "colab": {
          "base_uri": "https://localhost:8080/"
        },
        "id": "AnOMOrGqaEob",
        "outputId": "45938765-d264-4cf5-abf3-10526368ee7a"
      },
      "execution_count": 45,
      "outputs": [
        {
          "output_type": "execute_result",
          "data": {
            "text/plain": [
              "tensor([[9, 2, 6],\n",
              "        [7, 7, 8]])"
            ]
          },
          "metadata": {},
          "execution_count": 45
        }
      ]
    },
    {
      "cell_type": "code",
      "source": [
        "#log\n",
        "torch.log(k)"
      ],
      "metadata": {
        "colab": {
          "base_uri": "https://localhost:8080/"
        },
        "id": "zewQhmMmbc_m",
        "outputId": "0414902b-fd8d-4b36-b174-9828adcdd479"
      },
      "execution_count": 46,
      "outputs": [
        {
          "output_type": "execute_result",
          "data": {
            "text/plain": [
              "tensor([[2.1972, 0.6931, 1.7918],\n",
              "        [1.9459, 1.9459, 2.0794]])"
            ]
          },
          "metadata": {},
          "execution_count": 46
        }
      ]
    },
    {
      "cell_type": "code",
      "source": [
        "#exp\n",
        "torch.exp(k)"
      ],
      "metadata": {
        "colab": {
          "base_uri": "https://localhost:8080/"
        },
        "id": "UyBE70-lbjfz",
        "outputId": "6bde9cae-3a13-4f2f-d0c1-da71666e4d69"
      },
      "execution_count": 47,
      "outputs": [
        {
          "output_type": "execute_result",
          "data": {
            "text/plain": [
              "tensor([[8.1031e+03, 7.3891e+00, 4.0343e+02],\n",
              "        [1.0966e+03, 1.0966e+03, 2.9810e+03]])"
            ]
          },
          "metadata": {},
          "execution_count": 47
        }
      ]
    },
    {
      "cell_type": "code",
      "source": [
        "#sqrt\n",
        "torch.sqrt(k)"
      ],
      "metadata": {
        "colab": {
          "base_uri": "https://localhost:8080/"
        },
        "id": "4WKZxgUlbm47",
        "outputId": "6319fde4-6a62-43de-a1e2-afeb059506ec"
      },
      "execution_count": 48,
      "outputs": [
        {
          "output_type": "execute_result",
          "data": {
            "text/plain": [
              "tensor([[3.0000, 1.4142, 2.4495],\n",
              "        [2.6458, 2.6458, 2.8284]])"
            ]
          },
          "metadata": {},
          "execution_count": 48
        }
      ]
    },
    {
      "cell_type": "code",
      "source": [
        "# sigmoid\n",
        "torch.sigmoid(k)"
      ],
      "metadata": {
        "colab": {
          "base_uri": "https://localhost:8080/"
        },
        "id": "bCdKDssLboi3",
        "outputId": "d90fa810-6124-4c36-f911-204ef8360220"
      },
      "execution_count": 49,
      "outputs": [
        {
          "output_type": "execute_result",
          "data": {
            "text/plain": [
              "tensor([[0.9999, 0.8808, 0.9975],\n",
              "        [0.9991, 0.9991, 0.9997]])"
            ]
          },
          "metadata": {},
          "execution_count": 49
        }
      ]
    },
    {
      "cell_type": "code",
      "source": [
        "#softmax\n",
        "torch.softmax(k.to(torch.float32),dim = 0)"
      ],
      "metadata": {
        "colab": {
          "base_uri": "https://localhost:8080/"
        },
        "id": "r1Vnbtgob1gD",
        "outputId": "dcb3fe7c-2472-4c05-ac94-6f403cf1e4fd"
      },
      "execution_count": 50,
      "outputs": [
        {
          "output_type": "execute_result",
          "data": {
            "text/plain": [
              "tensor([[0.8808, 0.0067, 0.1192],\n",
              "        [0.1192, 0.9933, 0.8808]])"
            ]
          },
          "metadata": {},
          "execution_count": 50
        }
      ]
    },
    {
      "cell_type": "code",
      "source": [
        "#relu\n",
        "torch.relu(k)"
      ],
      "metadata": {
        "colab": {
          "base_uri": "https://localhost:8080/"
        },
        "id": "UXDN0JBmb4nW",
        "outputId": "ad0a7243-d153-4aed-9a7a-3f3b7e7b66d0"
      },
      "execution_count": 51,
      "outputs": [
        {
          "output_type": "execute_result",
          "data": {
            "text/plain": [
              "tensor([[9, 2, 6],\n",
              "        [7, 7, 8]])"
            ]
          },
          "metadata": {},
          "execution_count": 51
        }
      ]
    },
    {
      "cell_type": "markdown",
      "source": [
        "### Inplace Operations"
      ],
      "metadata": {
        "id": "DG7MAW_R6WJ0"
      }
    },
    {
      "cell_type": "code",
      "source": [
        "m = torch.rand(2,3)\n",
        "n = torch.rand(2,3)\n",
        "\n",
        "print(m)\n",
        "print(n)"
      ],
      "metadata": {
        "colab": {
          "base_uri": "https://localhost:8080/"
        },
        "id": "fWzDR-SR6Rp3",
        "outputId": "5ecb68b4-e7e8-48f7-88f0-c6972e58ff18"
      },
      "execution_count": 64,
      "outputs": [
        {
          "output_type": "stream",
          "name": "stdout",
          "text": [
            "tensor([[0.9141, 0.7668, 0.1659],\n",
            "        [0.4393, 0.2243, 0.8935]])\n",
            "tensor([[0.0497, 0.1780, 0.3011],\n",
            "        [0.1893, 0.9186, 0.2131]])\n"
          ]
        }
      ]
    },
    {
      "cell_type": "code",
      "source": [
        "# m + n"
      ],
      "metadata": {
        "colab": {
          "base_uri": "https://localhost:8080/"
        },
        "id": "p5-n7rog6kkN",
        "outputId": "74e9ea8a-8617-4f02-fa8b-d1c685cb9532"
      },
      "execution_count": 68,
      "outputs": [
        {
          "output_type": "execute_result",
          "data": {
            "text/plain": [
              "tensor([[0.9638, 0.9448, 0.4670],\n",
              "        [0.6286, 1.1429, 1.1066]])"
            ]
          },
          "metadata": {},
          "execution_count": 68
        }
      ]
    },
    {
      "cell_type": "code",
      "source": [
        "m.add_(n)"
      ],
      "metadata": {
        "colab": {
          "base_uri": "https://localhost:8080/"
        },
        "id": "ElCzCI506t1G",
        "outputId": "09ef5c5e-0772-478f-d74b-9aee17a9e1e8"
      },
      "execution_count": 69,
      "outputs": [
        {
          "output_type": "execute_result",
          "data": {
            "text/plain": [
              "tensor([[0.9638, 0.9448, 0.4670],\n",
              "        [0.6286, 1.1429, 1.1066]])"
            ]
          },
          "metadata": {},
          "execution_count": 69
        }
      ]
    },
    {
      "cell_type": "code",
      "source": [
        "m"
      ],
      "metadata": {
        "colab": {
          "base_uri": "https://localhost:8080/"
        },
        "id": "X5BRw4K8671w",
        "outputId": "81c213d4-6246-494c-8d20-e0392b105d69"
      },
      "execution_count": 70,
      "outputs": [
        {
          "output_type": "execute_result",
          "data": {
            "text/plain": [
              "tensor([[0.9638, 0.9448, 0.4670],\n",
              "        [0.6286, 1.1429, 1.1066]])"
            ]
          },
          "metadata": {},
          "execution_count": 70
        }
      ]
    },
    {
      "cell_type": "code",
      "source": [
        "n"
      ],
      "metadata": {
        "colab": {
          "base_uri": "https://localhost:8080/"
        },
        "id": "JjTiI4lz7B0l",
        "outputId": "601d74dc-7476-4410-c181-07de9c17dbd2"
      },
      "execution_count": 71,
      "outputs": [
        {
          "output_type": "execute_result",
          "data": {
            "text/plain": [
              "tensor([[0.0497, 0.1780, 0.3011],\n",
              "        [0.1893, 0.9186, 0.2131]])"
            ]
          },
          "metadata": {},
          "execution_count": 71
        }
      ]
    },
    {
      "cell_type": "code",
      "source": [
        "m.relu_()"
      ],
      "metadata": {
        "colab": {
          "base_uri": "https://localhost:8080/"
        },
        "id": "Q1eyb5z17COr",
        "outputId": "b206efdb-0db5-47fb-82d5-b31eb2f52fc6"
      },
      "execution_count": 72,
      "outputs": [
        {
          "output_type": "execute_result",
          "data": {
            "text/plain": [
              "tensor([[0.9638, 0.9448, 0.4670],\n",
              "        [0.6286, 1.1429, 1.1066]])"
            ]
          },
          "metadata": {},
          "execution_count": 72
        }
      ]
    },
    {
      "cell_type": "markdown",
      "source": [
        "### Copying a Tensor"
      ],
      "metadata": {
        "id": "US-t6cNk9Ae0"
      }
    },
    {
      "cell_type": "code",
      "source": [
        "a = torch.rand(2,3)\n",
        "a"
      ],
      "metadata": {
        "colab": {
          "base_uri": "https://localhost:8080/"
        },
        "id": "IwE8J7BK7FyJ",
        "outputId": "e73a12ca-ad99-455c-bb4c-d4976e064818"
      },
      "execution_count": 73,
      "outputs": [
        {
          "output_type": "execute_result",
          "data": {
            "text/plain": [
              "tensor([[0.3957, 0.6017, 0.4234],\n",
              "        [0.5224, 0.4175, 0.0340]])"
            ]
          },
          "metadata": {},
          "execution_count": 73
        }
      ]
    },
    {
      "cell_type": "code",
      "source": [
        "b=a"
      ],
      "metadata": {
        "id": "uzh0q0B59hx6"
      },
      "execution_count": 74,
      "outputs": []
    },
    {
      "cell_type": "code",
      "source": [
        "a[0][0] = 0"
      ],
      "metadata": {
        "id": "nkoYK1jw9iuP"
      },
      "execution_count": 75,
      "outputs": []
    },
    {
      "cell_type": "code",
      "source": [
        "a"
      ],
      "metadata": {
        "colab": {
          "base_uri": "https://localhost:8080/"
        },
        "id": "PZYHCRdH9oiE",
        "outputId": "e81c16e4-4c81-44da-8e29-0f9d4252106d"
      },
      "execution_count": 76,
      "outputs": [
        {
          "output_type": "execute_result",
          "data": {
            "text/plain": [
              "tensor([[0.0000, 0.6017, 0.4234],\n",
              "        [0.5224, 0.4175, 0.0340]])"
            ]
          },
          "metadata": {},
          "execution_count": 76
        }
      ]
    },
    {
      "cell_type": "code",
      "source": [
        "b"
      ],
      "metadata": {
        "colab": {
          "base_uri": "https://localhost:8080/"
        },
        "id": "6fAHl81O9ozR",
        "outputId": "0ad4f49c-e387-421f-d30b-fc9a19638f93"
      },
      "execution_count": 77,
      "outputs": [
        {
          "output_type": "execute_result",
          "data": {
            "text/plain": [
              "tensor([[0.0000, 0.6017, 0.4234],\n",
              "        [0.5224, 0.4175, 0.0340]])"
            ]
          },
          "metadata": {},
          "execution_count": 77
        }
      ]
    },
    {
      "cell_type": "code",
      "source": [
        "id(a) == id(b)"
      ],
      "metadata": {
        "colab": {
          "base_uri": "https://localhost:8080/"
        },
        "id": "kJnzRUkX9pVW",
        "outputId": "2202b893-9bf8-4d4a-e22a-37bc16420f0a"
      },
      "execution_count": 80,
      "outputs": [
        {
          "output_type": "execute_result",
          "data": {
            "text/plain": [
              "True"
            ]
          },
          "metadata": {},
          "execution_count": 80
        }
      ]
    },
    {
      "cell_type": "code",
      "source": [
        "c = a.clone()"
      ],
      "metadata": {
        "id": "KFU9A83w90wv"
      },
      "execution_count": 81,
      "outputs": []
    },
    {
      "cell_type": "code",
      "source": [
        "c"
      ],
      "metadata": {
        "colab": {
          "base_uri": "https://localhost:8080/"
        },
        "id": "TMnsdgYO-jvU",
        "outputId": "25af8873-2610-43c9-e58b-e838f041b4a0"
      },
      "execution_count": 82,
      "outputs": [
        {
          "output_type": "execute_result",
          "data": {
            "text/plain": [
              "tensor([[0.0000, 0.6017, 0.4234],\n",
              "        [0.5224, 0.4175, 0.0340]])"
            ]
          },
          "metadata": {},
          "execution_count": 82
        }
      ]
    },
    {
      "cell_type": "code",
      "source": [
        "# id(a) == id(b) #True\n",
        "id(a) == id(c) #False"
      ],
      "metadata": {
        "colab": {
          "base_uri": "https://localhost:8080/"
        },
        "id": "o8wlNcqP-kIP",
        "outputId": "b6498c59-a432-454d-c90f-c9eba6e9dc46"
      },
      "execution_count": 83,
      "outputs": [
        {
          "output_type": "execute_result",
          "data": {
            "text/plain": [
              "False"
            ]
          },
          "metadata": {},
          "execution_count": 83
        }
      ]
    },
    {
      "cell_type": "markdown",
      "source": [
        "### Tensor Operations on GPU"
      ],
      "metadata": {
        "id": "9qvj_IpOFQzX"
      }
    },
    {
      "cell_type": "code",
      "source": [
        "# torch.cuda.is_available()"
      ],
      "metadata": {
        "colab": {
          "base_uri": "https://localhost:8080/"
        },
        "id": "3W_SevfB-ofW",
        "outputId": "9bd51a9b-f409-4490-aa20-c6f9bf4113d7"
      },
      "execution_count": 84,
      "outputs": [
        {
          "output_type": "execute_result",
          "data": {
            "text/plain": [
              "False"
            ]
          },
          "metadata": {},
          "execution_count": 84
        }
      ]
    },
    {
      "cell_type": "code",
      "source": [
        "# device = torch.device('cuda')"
      ],
      "metadata": {
        "id": "9qwfjrRwFW1z"
      },
      "execution_count": 87,
      "outputs": []
    },
    {
      "cell_type": "code",
      "source": [
        "# # creating a new tensor on gpu\n",
        "# torch.rand((2,3),device = device)\n",
        "\n"
      ],
      "metadata": {
        "id": "GOVFyGS4Fc0k"
      },
      "execution_count": 89,
      "outputs": []
    },
    {
      "cell_type": "code",
      "source": [
        "# # moving an existing tensor to GPU\n",
        "# a = torch.rand((2,3))\n",
        "# a.to(device)"
      ],
      "metadata": {
        "id": "526nVWOTFpxh"
      },
      "execution_count": 92,
      "outputs": []
    },
    {
      "cell_type": "markdown",
      "source": [
        "### Reshaping Tensors"
      ],
      "metadata": {
        "id": "SLkCKHHDHIdX"
      }
    },
    {
      "cell_type": "code",
      "source": [
        "a = torch.ones(4,4)\n",
        "a"
      ],
      "metadata": {
        "colab": {
          "base_uri": "https://localhost:8080/"
        },
        "id": "n7JCDkHOFyTQ",
        "outputId": "1863d59f-9c5b-4d50-ff17-369be1bc79b1"
      },
      "execution_count": 94,
      "outputs": [
        {
          "output_type": "execute_result",
          "data": {
            "text/plain": [
              "tensor([[1., 1., 1., 1.],\n",
              "        [1., 1., 1., 1.],\n",
              "        [1., 1., 1., 1.],\n",
              "        [1., 1., 1., 1.]])"
            ]
          },
          "metadata": {},
          "execution_count": 94
        }
      ]
    },
    {
      "cell_type": "code",
      "source": [
        "# reshape\n",
        "a.reshape(2,2,2,2)"
      ],
      "metadata": {
        "colab": {
          "base_uri": "https://localhost:8080/"
        },
        "id": "lyBdb_pRHNaK",
        "outputId": "fdd713ad-bd53-48d1-bce5-862ae567095a"
      },
      "execution_count": 99,
      "outputs": [
        {
          "output_type": "execute_result",
          "data": {
            "text/plain": [
              "tensor([[[[1., 1.],\n",
              "          [1., 1.]],\n",
              "\n",
              "         [[1., 1.],\n",
              "          [1., 1.]]],\n",
              "\n",
              "\n",
              "        [[[1., 1.],\n",
              "          [1., 1.]],\n",
              "\n",
              "         [[1., 1.],\n",
              "          [1., 1.]]]])"
            ]
          },
          "metadata": {},
          "execution_count": 99
        }
      ]
    },
    {
      "cell_type": "code",
      "source": [
        "#flatten\n",
        "a.flatten()"
      ],
      "metadata": {
        "colab": {
          "base_uri": "https://localhost:8080/"
        },
        "id": "H0TIWT-IHTfu",
        "outputId": "6597d63b-4d00-42ad-e00d-063212870e1b"
      },
      "execution_count": 100,
      "outputs": [
        {
          "output_type": "execute_result",
          "data": {
            "text/plain": [
              "tensor([1., 1., 1., 1., 1., 1., 1., 1., 1., 1., 1., 1., 1., 1., 1., 1.])"
            ]
          },
          "metadata": {},
          "execution_count": 100
        }
      ]
    },
    {
      "cell_type": "code",
      "source": [
        "b = torch.rand(2,3,4)\n",
        "b"
      ],
      "metadata": {
        "colab": {
          "base_uri": "https://localhost:8080/"
        },
        "id": "cd-NzXgNIZ46",
        "outputId": "69ef40cd-f59f-4f64-f6c7-88240d129fb8"
      },
      "execution_count": 101,
      "outputs": [
        {
          "output_type": "execute_result",
          "data": {
            "text/plain": [
              "tensor([[[0.4890, 0.5887, 0.7340, 0.8497],\n",
              "         [0.9112, 0.4847, 0.9436, 0.3904],\n",
              "         [0.2499, 0.3206, 0.9753, 0.7582]],\n",
              "\n",
              "        [[0.6688, 0.2651, 0.2336, 0.5057],\n",
              "         [0.5688, 0.0634, 0.8993, 0.2732],\n",
              "         [0.3397, 0.1879, 0.5534, 0.2682]]])"
            ]
          },
          "metadata": {},
          "execution_count": 101
        }
      ]
    },
    {
      "cell_type": "code",
      "source": [
        "#permute\n",
        "b.permute(2,0,1).shape"
      ],
      "metadata": {
        "colab": {
          "base_uri": "https://localhost:8080/"
        },
        "id": "kX3FJjYWIiwi",
        "outputId": "6b960eb7-322f-42e8-a4ab-477d3cb3724f"
      },
      "execution_count": 104,
      "outputs": [
        {
          "output_type": "execute_result",
          "data": {
            "text/plain": [
              "torch.Size([4, 2, 3])"
            ]
          },
          "metadata": {},
          "execution_count": 104
        }
      ]
    },
    {
      "cell_type": "code",
      "source": [
        "#unsqueeze\n",
        "c = torch.rand(226,226,3)\n",
        "c.unsqueeze(0).shape"
      ],
      "metadata": {
        "colab": {
          "base_uri": "https://localhost:8080/"
        },
        "id": "Ig7m2ZD9IkjO",
        "outputId": "d3bff860-9c41-478b-b4b2-ce011df13a5a"
      },
      "execution_count": 110,
      "outputs": [
        {
          "output_type": "execute_result",
          "data": {
            "text/plain": [
              "torch.Size([1, 226, 226, 3])"
            ]
          },
          "metadata": {},
          "execution_count": 110
        }
      ]
    },
    {
      "cell_type": "code",
      "source": [],
      "metadata": {
        "id": "x3dyys7tI49A"
      },
      "execution_count": null,
      "outputs": []
    }
  ]
}